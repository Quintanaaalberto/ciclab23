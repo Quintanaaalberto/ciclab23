{
 "cells": [
  {
   "attachments": {},
   "cell_type": "markdown",
   "metadata": {},
   "source": [
    "# Challenge 01: Diagonal Unitary Circuit Composer\n",
    "\n",
    "Write a program that takes as an input a diagonal unitary matrix, and returns a corresponding quantum circuit. For example, given the unitary matrix $\\Lambda \\in \\mathbb{R}^{4\\times4}$ shown below, the composer would synthesize the following circuit:\n",
    "\n",
    "<img src=\"images/composer_cir.png\" width = 750/>\n",
    "\n",
    "For this problem, you are not restricted to the use of a particular set of gates. Since different equivalent circuits can have the same unitary operator associated with them, your circuit for $\\Lambda$ wouldn't have to necessarily look the same as the one above. For example, depending on your choice of gates, the same unitary $\\Lambda$ above could result in circuits with more (or less) number of gates, like the ones shown below:\n",
    "\n",
    "<img src=\"images/composer_cir2.png\" width = 680/>\n",
    "\n",
    "We have broken down this challenge in three levels of difficulty. You don't have to work on these separately nor complete all three of them; If you have an idea how to tackle Level 3, you can just go for it, but if not, solving first two first should help you get started.\n",
    "\n",
    "**Level 1:** The composer should return a circuit for any diagonal unitary matrix $\\Lambda \\in \\mathbb{R}^{4\\times4}$. (i.e., $4 \\times 4$ matrices with only real entries)\n",
    "\n",
    "**Level 2:** The composer should return a circuit for any diagonal unitary matrix $\\Lambda \\in \\mathbb{R}^{N\\times N}$. (i.e., matrices of arbitrary size $N = 2^n$ with only real entries)\n",
    "\n",
    "**Level 3:** The composer should return a circuit for any diagonal unitary matrix $\\Lambda \\in \\mathbb{C}^{N\\times N}$. (i.e., matrices of arbitrary size $N = 2^n$ with complex entries)\n",
    "\n",
    "**Bonus:** The composer should return circuits consisting of only one-qubit and two-qubit gates. The bonus applies to solutions in levels 2 and 3.\n",
    "\n",
    "The idea behind this challenge is for you to develop an understanding of how circuits can be built out of unitaries, so avoid using functions that do this for you automatically, like the `transpile` function in Qiskit, or the `decompose` function in Cirq.\n",
    "\n",
    "**Hint:** If you have trouble getting started, it might be helpful to know that this problem is closely related to the design of Oracles for Grover's Algorithm [1].\n",
    "\n",
    "[1] Figgatt, Caroline, et al. \"Complete 3-Qubit Grover search on a programmable quantum computer.\" Nature communications 8.1 (2017): 1-9. [arXiv:1703.10535](https://arxiv.org/pdf/1703.10535.pdf)"
   ]
  },
  {
   "attachments": {},
   "cell_type": "markdown",
   "metadata": {},
   "source": [
    "## SOLUTION BY Alberto Quintana Criado (Github: @quintanaaalberto)\n"
   ]
  },
  {
   "attachments": {},
   "cell_type": "markdown",
   "metadata": {},
   "source": [
    "The first idea that comes into my head (and probably to everyone's) is to try to determine the composition of the 4x4 hermitian matrix, into multiple, smaller, Pauli gates (X, Y, Z, I). To **decompose a Hermitian gate into a combination of Pauli gates**, you can use the **Pauli decomposition theorem**. The theorem states that any Hermitian matrix can be expressed as a linear combination of tensor products of Pauli matrices (including the identity matrix). Here's a general approach to decompose a Hermitian gate:"
   ]
  },
  {
   "attachments": {},
   "cell_type": "markdown",
   "metadata": {},
   "source": [
    "The Pauli decomposition theorem states that any Hermitian matrix H can be expressed as a linear combination of tensor products of Pauli matrices (including the identity matrix I). Mathematically, it can be written as:\n",
    "\n",
    "$H=∑_{k=0}^{N−1}c_kσ_{i_1}⊗σ_{i_2}⊗…⊗σ_{i_n}$\n",
    "\n",
    "where H is the Hermitian matrix, N = 4^n is the total number of tensor products of Pauli matrices, c_k are the coefficients, and \\sigma_{i_1}, \\sigma_{i_2}, \\ldots, \\sigma_{i_n} are Pauli matrices, including the identity matrix I."
   ]
  },
  {
   "attachments": {},
   "cell_type": "markdown",
   "metadata": {},
   "source": [
    "The coefficients c_k can be calculated using the formula:\n",
    "\n",
    "$ck=1/(2^n)*Tr⁡(Hσ_{i1}⊗σ_{i2}⊗…⊗σ_{in})$\n",
    "\n",
    "where \\operatorname{Tr} denotes the trace operation, and n is the number of qubits."
   ]
  },
  {
   "attachments": {},
   "cell_type": "markdown",
   "metadata": {},
   "source": [
    "### Level 1: The composer should return a circuit for any diagonal unitary matrix $\\Lambda \\in \\mathbb{R}^{4\\times4}$. (i.e., $4 \\times 4$ matrices with only real entries)"
   ]
  },
  {
   "cell_type": "code",
   "execution_count": 1,
   "metadata": {},
   "outputs": [
    {
     "name": "stdout",
     "output_type": "stream",
     "text": [
      "[[ 1  0  0  0]\n",
      " [ 0 -1  0  0]\n",
      " [ 0  0 -1  0]\n",
      " [ 0  0  0  1]]\n"
     ]
    }
   ],
   "source": [
    "import numpy as np \n",
    "import itertools\n",
    "\n",
    "# declaring the original matrix that needs to be developed, 4x4, being the example on the challenge.\n",
    "matA = np.diag([1, -1, -1, 1])\n",
    "print(matA)"
   ]
  },
  {
   "cell_type": "code",
   "execution_count": null,
   "metadata": {},
   "outputs": [],
   "source": []
  }
 ],
 "metadata": {
  "kernelspec": {
   "display_name": "Python 3",
   "language": "python",
   "name": "python3"
  },
  "language_info": {
   "codemirror_mode": {
    "name": "ipython",
    "version": 3
   },
   "file_extension": ".py",
   "mimetype": "text/x-python",
   "name": "python",
   "nbconvert_exporter": "python",
   "pygments_lexer": "ipython3",
   "version": "3.9.16"
  }
 },
 "nbformat": 4,
 "nbformat_minor": 4
}
