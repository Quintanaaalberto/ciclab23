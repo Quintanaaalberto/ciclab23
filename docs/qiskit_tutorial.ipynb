{
 "cells": [
  {
   "cell_type": "code",
   "execution_count": 21,
   "metadata": {},
   "outputs": [
    {
     "data": {
      "text/plain": [
       "array([0.5, 0.5])"
      ]
     },
     "metadata": {},
     "output_type": "display_data"
    }
   ],
   "source": [
    "from numpy import array\n",
    "\n",
    "ket0 = array([1, 0])\n",
    "ket1 = array([0, 1])\n",
    "\n",
    "display(ket0/2 + ket1/2)"
   ]
  },
  {
   "cell_type": "code",
   "execution_count": 22,
   "metadata": {},
   "outputs": [
    {
     "data": {
      "text/plain": [
       "array([[1. , 1. ],\n",
       "       [0.5, 0. ]])"
      ]
     },
     "execution_count": 22,
     "metadata": {},
     "output_type": "execute_result"
    }
   ],
   "source": [
    "M1 = array([ [1, 1], [0, 0] ])\n",
    "M2 = array([ [1, 1], [1, 0] ])\n",
    "\n",
    "M1/2 + M2/2"
   ]
  },
  {
   "cell_type": "code",
   "execution_count": 23,
   "metadata": {},
   "outputs": [
    {
     "data": {
      "text/plain": [
       "array([1, 0])"
      ]
     },
     "metadata": {},
     "output_type": "display_data"
    },
    {
     "data": {
      "text/plain": [
       "array([[2, 1],\n",
       "       [0, 0]])"
      ]
     },
     "metadata": {},
     "output_type": "display_data"
    },
    {
     "data": {
      "text/plain": [
       "array([[1, 1],\n",
       "       [1, 1]])"
      ]
     },
     "metadata": {},
     "output_type": "display_data"
    }
   ],
   "source": [
    "from numpy import matmul\n",
    "\n",
    "display(matmul(M1,ket1))\n",
    "display(matmul(M1,M2))\n",
    "display(matmul(M2,M1))"
   ]
  },
  {
   "cell_type": "code",
   "execution_count": 24,
   "metadata": {},
   "outputs": [
    {
     "name": "stdout",
     "output_type": "stream",
     "text": [
      "State vectors u, v, and w have been defined.\n"
     ]
    }
   ],
   "source": [
    "from qiskit.quantum_info import Statevector\n",
    "from numpy import sqrt\n",
    "\n",
    "u = Statevector([1/sqrt(2), 1/sqrt(2)])\n",
    "v = Statevector([(1+2.j)/3, -2/3])\n",
    "w = Statevector([1/3, 2/3])\n",
    "\n",
    "print(\"State vectors u, v, and w have been defined.\")"
   ]
  },
  {
   "cell_type": "code",
   "execution_count": 25,
   "metadata": {},
   "outputs": [
    {
     "data": {
      "text/latex": [
       "$$\\frac{\\sqrt{2}}{2} |0\\rangle+\\frac{\\sqrt{2}}{2} |1\\rangle$$"
      ],
      "text/plain": [
       "<IPython.core.display.Latex object>"
      ]
     },
     "metadata": {},
     "output_type": "display_data"
    },
    {
     "data": {
      "text/plain": [
       "[ 0.33333333+0.66666667j,-0.66666667+0.j        ]"
      ]
     },
     "metadata": {},
     "output_type": "display_data"
    }
   ],
   "source": [
    "display(u.draw('latex'))\n",
    "display(v.draw('text'))"
   ]
  },
  {
   "cell_type": "code",
   "execution_count": 26,
   "metadata": {},
   "outputs": [
    {
     "data": {
      "text/plain": [
       "True"
      ]
     },
     "metadata": {},
     "output_type": "display_data"
    },
    {
     "data": {
      "text/plain": [
       "True"
      ]
     },
     "metadata": {},
     "output_type": "display_data"
    },
    {
     "data": {
      "text/plain": [
       "False"
      ]
     },
     "metadata": {},
     "output_type": "display_data"
    }
   ],
   "source": [
    "display(u.is_valid())\n",
    "display(v.is_valid())\n",
    "display(w.is_valid())"
   ]
  },
  {
   "cell_type": "code",
   "execution_count": 27,
   "metadata": {},
   "outputs": [
    {
     "data": {
      "text/latex": [
       "$$(\\frac{1}{3} + \\frac{2 i}{3}) |0\\rangle- \\frac{2}{3} |1\\rangle$$"
      ],
      "text/plain": [
       "<IPython.core.display.Latex object>"
      ]
     },
     "execution_count": 27,
     "metadata": {},
     "output_type": "execute_result"
    }
   ],
   "source": [
    "v = Statevector([(1+2.j)/3, -2/3])\n",
    "v.draw('latex')"
   ]
  },
  {
   "cell_type": "code",
   "execution_count": 28,
   "metadata": {},
   "outputs": [
    {
     "data": {
      "text/plain": [
       "('1',\n",
       " Statevector([ 0.+0.j, -1.+0.j],\n",
       "             dims=(2,)))"
      ]
     },
     "execution_count": 28,
     "metadata": {},
     "output_type": "execute_result"
    }
   ],
   "source": [
    "v.measure()\n"
   ]
  },
  {
   "cell_type": "code",
   "execution_count": 29,
   "metadata": {},
   "outputs": [
    {
     "data": {
      "text/latex": [
       "$$(\\frac{686 \\cdot 2^{\\frac{47}{48}} \\cdot 3^{\\frac{155}{192}} \\cdot 5^{\\frac{13}{96}} \\cdot 7^{\\frac{37}{96}}}{10125} + \\frac{\\sqrt{2} i}{4}) |0\\rangle+(-0.353553390593 + 0.146446609407 i) |1\\rangle$$"
      ],
      "text/plain": [
       "<IPython.core.display.Latex object>"
      ]
     },
     "execution_count": 29,
     "metadata": {},
     "output_type": "execute_result"
    }
   ],
   "source": [
    "from qiskit.quantum_info import Operator\n",
    "\n",
    "X = Operator([ [0,1],[1,0] ])\n",
    "Y = Operator([ [0,-1.j],[1.j,0] ])\n",
    "Z = Operator([ [1,0],[0,-1] ])\n",
    "H = Operator([ [1/sqrt(2),1/sqrt(2)],[1/sqrt(2),-1/sqrt(2)] ])\n",
    "S = Operator([ [1,0],[0,1.j] ])\n",
    "T = Operator([ [1,0],[0,(1+1.j)/sqrt(2)] ])\n",
    "\n",
    "v = Statevector([1,0])\n",
    "\n",
    "v = v.evolve(H)\n",
    "v = v.evolve(T)\n",
    "v = v.evolve(H)\n",
    "v = v.evolve(T)\n",
    "v = v.evolve(Z)\n",
    "\n",
    "v.draw('latex')"
   ]
  },
  {
   "cell_type": "code",
   "execution_count": 30,
   "metadata": {},
   "outputs": [
    {
     "data": {
      "text/html": [
       "<pre style=\"word-wrap: normal;white-space: pre;background: #fff0;line-height: 1.1;font-family: &quot;Courier New&quot;,Courier,monospace\">   ┌───┐┌───┐┌───┐┌───┐┌───┐\n",
       "q: ┤ H ├┤ T ├┤ H ├┤ T ├┤ Z ├\n",
       "   └───┘└───┘└───┘└───┘└───┘</pre>"
      ],
      "text/plain": [
       "   ┌───┐┌───┐┌───┐┌───┐┌───┐\n",
       "q: ┤ H ├┤ T ├┤ H ├┤ T ├┤ Z ├\n",
       "   └───┘└───┘└───┘└───┘└───┘"
      ]
     },
     "execution_count": 30,
     "metadata": {},
     "output_type": "execute_result"
    }
   ],
   "source": [
    "from qiskit import QuantumCircuit\n",
    "\n",
    "circuit = QuantumCircuit(1)\n",
    "\n",
    "circuit.h(0)\n",
    "circuit.t(0)\n",
    "circuit.h(0)\n",
    "circuit.t(0)\n",
    "circuit.z(0)\n",
    "\n",
    "circuit.draw()"
   ]
  },
  {
   "cell_type": "code",
   "execution_count": 31,
   "metadata": {},
   "outputs": [
    {
     "data": {
      "text/latex": [
       "$$(\\frac{686 \\cdot 2^{\\frac{47}{48}} \\cdot 3^{\\frac{155}{192}} \\cdot 5^{\\frac{13}{96}} \\cdot 7^{\\frac{37}{96}}}{10125} + \\frac{\\sqrt{2} i}{4}) |0\\rangle+(-0.353553390593 + 0.146446609407 i) |1\\rangle$$"
      ],
      "text/plain": [
       "<IPython.core.display.Latex object>"
      ]
     },
     "execution_count": 31,
     "metadata": {},
     "output_type": "execute_result"
    }
   ],
   "source": [
    "ket0 = Statevector([1,0])\n",
    "v = ket0.evolve(circuit)\n",
    "v.draw('latex')"
   ]
  },
  {
   "cell_type": "code",
   "execution_count": 32,
   "metadata": {},
   "outputs": [
    {
     "data": {
      "text/plain": [
       "('0',\n",
       " Statevector([0.92387953+0.38268343j, 0.        +0.j        ],\n",
       "             dims=(2,)))"
      ]
     },
     "execution_count": 32,
     "metadata": {},
     "output_type": "execute_result"
    }
   ],
   "source": [
    "v.measure()"
   ]
  },
  {
   "cell_type": "code",
   "execution_count": 33,
   "metadata": {},
   "outputs": [
    {
     "data": {
      "image/png": "[encoded data removed]",
      "text/plain": [
       "<Figure size 700x500 with 1 Axes>"
      ]
     },
     "execution_count": 33,
     "metadata": {},
     "output_type": "execute_result"
    }
   ],
   "source": [
    "from qiskit.visualization import plot_histogram\n",
    "\n",
    "statistics = v.sample_counts(4000)\n",
    "plot_histogram(statistics)"
   ]
  },
  {
   "attachments": {},
   "cell_type": "markdown",
   "metadata": {},
   "source": [
    "# MULTIPLE SYSTEMS \n",
    "## CODE EXAMPLES:\n"
   ]
  },
  {
   "cell_type": "code",
   "execution_count": 34,
   "metadata": {},
   "outputs": [],
   "source": [
    "from qiskit.quantum_info import Statevector, Operator"
   ]
  },
  {
   "cell_type": "code",
   "execution_count": 35,
   "metadata": {},
   "outputs": [
    {
     "data": {
      "text/latex": [
       "$$ |01\\rangle$$"
      ],
      "text/plain": [
       "<IPython.core.display.Latex object>"
      ]
     },
     "execution_count": 35,
     "metadata": {},
     "output_type": "execute_result"
    }
   ],
   "source": [
    "zero, one = Statevector.from_label('0'), Statevector.from_label('1')\n",
    "zero.tensor(one).draw('latex')  # returns new `Statevector`(|0⟩⊗|1⟩)"
   ]
  },
  {
   "cell_type": "code",
   "execution_count": 36,
   "metadata": {},
   "outputs": [
    {
     "data": {
      "text/latex": [
       "$$\\frac{1}{2} |00\\rangle+\\frac{i}{2} |01\\rangle+\\frac{1}{2} |10\\rangle+\\frac{i}{2} |11\\rangle$$"
      ],
      "text/plain": [
       "<IPython.core.display.Latex object>"
      ]
     },
     "execution_count": 36,
     "metadata": {},
     "output_type": "execute_result"
    }
   ],
   "source": [
    "from numpy import sqrt\n",
    "plus = Statevector.from_label('+')\n",
    "i_state = Statevector([1/sqrt(2), 1j/sqrt(2)])\n",
    "\n",
    "psi = plus.tensor(i_state)\n",
    "psi.draw('latex')"
   ]
  },
  {
   "cell_type": "code",
   "execution_count": 37,
   "metadata": {},
   "outputs": [
    {
     "data": {
      "text/plain": [
       "Operator([[0.+0.j, 0.+0.j, 1.+0.j, 0.+0.j],\n",
       "          [0.+0.j, 0.+0.j, 0.+0.j, 1.+0.j],\n",
       "          [1.+0.j, 0.+0.j, 0.+0.j, 0.+0.j],\n",
       "          [0.+0.j, 1.+0.j, 0.+0.j, 0.+0.j]],\n",
       "         input_dims=(2, 2), output_dims=(2, 2))"
      ]
     },
     "execution_count": 37,
     "metadata": {},
     "output_type": "execute_result"
    }
   ],
   "source": [
    "# The Operator class also has a tensor method. \n",
    "# In the example below, we create the and gates and display their tensor product.\n",
    "\n",
    "X = Operator([ [0, 1],\n",
    "              [1, 0] ])\n",
    "\n",
    "I = Operator([ [1, 0],\n",
    "              [0, 1] ])\n",
    "\n",
    "X.tensor(I)"
   ]
  },
  {
   "cell_type": "code",
   "execution_count": 38,
   "metadata": {},
   "outputs": [
    {
     "data": {
      "text/latex": [
       "$$\\frac{i}{2} |00\\rangle+\\frac{1}{2} |01\\rangle+\\frac{i}{2} |10\\rangle+\\frac{1}{2} |11\\rangle$$"
      ],
      "text/plain": [
       "<IPython.core.display.Latex object>"
      ]
     },
     "execution_count": 38,
     "metadata": {},
     "output_type": "execute_result"
    }
   ],
   "source": [
    "# We can then treat these compound states and operations as we did single systems in the previous page. \n",
    "# For example, in the cell below we use the state psi we defined above, and calculate .\n",
    "# Note: You can also use the ^ operator to tensor two operators together.\n",
    "\n",
    "psi.evolve( I ^ X ).draw('latex')"
   ]
  },
  {
   "cell_type": "code",
   "execution_count": 39,
   "metadata": {},
   "outputs": [
    {
     "data": {
      "text/latex": [
       "$$\\frac{1}{2} |00\\rangle+\\frac{i}{2} |01\\rangle+\\frac{i}{2} |10\\rangle+\\frac{1}{2} |11\\rangle$$"
      ],
      "text/plain": [
       "<IPython.core.display.Latex object>"
      ]
     },
     "execution_count": 39,
     "metadata": {},
     "output_type": "execute_result"
    }
   ],
   "source": [
    "# Below, we create a CNOT operator and calculate CNOT|PSI>.\n",
    "\n",
    "CNOT = Operator([ [1, 0, 0, 0],\n",
    "                 [0, 1, 0, 0],\n",
    "                 [0, 0, 0, 1],\n",
    "                 [0, 0, 1, 0] ])\n",
    "\n",
    "psi.evolve(CNOT).draw('latex')"
   ]
  },
  {
   "attachments": {},
   "cell_type": "markdown",
   "metadata": {},
   "source": [
    "## CHALLENGE:\n",
    "cAN YOU CREATE EACH OF THE BELL STATES USING ONLY SINGLE-QUBIT STATE VECTORS AND THE CNOT OPERATOR?"
   ]
  },
  {
   "cell_type": "code",
   "execution_count": 40,
   "metadata": {},
   "outputs": [
    {
     "name": "stdout",
     "output_type": "stream",
     "text": [
      "Bell state: phi+\n"
     ]
    },
    {
     "data": {
      "text/latex": [
       "$$\\frac{\\sqrt{2}}{2} |00\\rangle+\\frac{\\sqrt{2}}{2} |10\\rangle$$"
      ],
      "text/plain": [
       "<IPython.core.display.Latex object>"
      ]
     },
     "execution_count": 40,
     "metadata": {},
     "output_type": "execute_result"
    }
   ],
   "source": [
    "n1 = Statevector.from_label('+').tensor(Statevector.from_label('0'))\n",
    "CNOT = Operator([ [1, 0, 0, 0],\n",
    "                 [0, 1, 0, 0],\n",
    "                 [0, 0, 0, 1],\n",
    "                 [0, 0, 1, 0] ])\n",
    "print('Bell state: phi+')\n",
    "n1.draw('latex')\n",
    "# n1.draw('latex')\n",
    "## n1.evolve(CNOT).draw('latex')"
   ]
  },
  {
   "cell_type": "code",
   "execution_count": 41,
   "metadata": {},
   "outputs": [
    {
     "name": "stdout",
     "output_type": "stream",
     "text": [
      "Bell state: phi-\n"
     ]
    },
    {
     "data": {
      "text/latex": [
       "$$\\frac{\\sqrt{2}}{2} |00\\rangle- \\frac{\\sqrt{2}}{2} |11\\rangle$$"
      ],
      "text/plain": [
       "<IPython.core.display.Latex object>"
      ]
     },
     "execution_count": 41,
     "metadata": {},
     "output_type": "execute_result"
    }
   ],
   "source": [
    "n1 = Statevector.from_label('-').tensor(Statevector.from_label('0'))\n",
    "CNOT = Operator([ [1, 0, 0, 0],\n",
    "                 [0, 1, 0, 0],\n",
    "                 [0, 0, 0, 1],\n",
    "                 [0, 0, 1, 0] ])\n",
    "print('Bell state: phi-')\n",
    "n1.evolve(CNOT).draw('latex')"
   ]
  },
  {
   "cell_type": "code",
   "execution_count": 42,
   "metadata": {},
   "outputs": [
    {
     "name": "stdout",
     "output_type": "stream",
     "text": [
      "Bell state: psi+\n"
     ]
    },
    {
     "data": {
      "text/latex": [
       "$$\\frac{\\sqrt{2}}{2} |01\\rangle+\\frac{\\sqrt{2}}{2} |10\\rangle$$"
      ],
      "text/plain": [
       "<IPython.core.display.Latex object>"
      ]
     },
     "execution_count": 42,
     "metadata": {},
     "output_type": "execute_result"
    }
   ],
   "source": [
    "n1 = Statevector.from_label('+').tensor(Statevector.from_label('1'))\n",
    "CNOT = Operator([ [1, 0, 0, 0],\n",
    "                 [0, 1, 0, 0],\n",
    "                 [0, 0, 0, 1],\n",
    "                 [0, 0, 1, 0] ])\n",
    "print('Bell state: psi+')\n",
    "n1.evolve(CNOT).draw('latex')"
   ]
  },
  {
   "cell_type": "code",
   "execution_count": null,
   "metadata": {},
   "outputs": [],
   "source": []
  },
  {
   "cell_type": "code",
   "execution_count": 43,
   "metadata": {},
   "outputs": [
    {
     "name": "stdout",
     "output_type": "stream",
     "text": [
      "Bell state: psi-\n"
     ]
    },
    {
     "data": {
      "text/latex": [
       "$$\\frac{\\sqrt{2}}{2} |01\\rangle- \\frac{\\sqrt{2}}{2} |10\\rangle$$"
      ],
      "text/plain": [
       "<IPython.core.display.Latex object>"
      ]
     },
     "execution_count": 43,
     "metadata": {},
     "output_type": "execute_result"
    }
   ],
   "source": [
    "n1 = Statevector.from_label('-').tensor(Statevector.from_label('1'))\n",
    "CNOT = Operator([ [1, 0, 0, 0],\n",
    "                 [0, 1, 0, 0],\n",
    "                 [0, 0, 0, 1],\n",
    "                 [0, 0, 1, 0] ])\n",
    "print('Bell state: psi-')\n",
    "n1.evolve(CNOT).draw('latex')"
   ]
  },
  {
   "attachments": {},
   "cell_type": "markdown",
   "metadata": {},
   "source": [
    "## Partial measurements:"
   ]
  },
  {
   "cell_type": "code",
   "execution_count": 44,
   "metadata": {},
   "outputs": [
    {
     "data": {
      "text/latex": [
       "$$\\frac{\\sqrt{3}}{3} |001\\rangle+\\frac{\\sqrt{3}}{3} |010\\rangle+\\frac{\\sqrt{3}}{3} |100\\rangle$$"
      ],
      "text/plain": [
       "<IPython.core.display.Latex object>"
      ]
     },
     "execution_count": 44,
     "metadata": {},
     "output_type": "execute_result"
    }
   ],
   "source": [
    "from numpy import sqrt\n",
    "W = Statevector([0, 1, 1, 0, 1, 0, 0, 0]/sqrt(3))\n",
    "W.draw('latex')"
   ]
  },
  {
   "cell_type": "code",
   "execution_count": 46,
   "metadata": {},
   "outputs": [
    {
     "name": "stdout",
     "output_type": "stream",
     "text": [
      "Measured: 01\n",
      "State after measurement:\n"
     ]
    },
    {
     "data": {
      "text/latex": [
       "$$ |001\\rangle$$"
      ],
      "text/plain": [
       "<IPython.core.display.Latex object>"
      ]
     },
     "execution_count": 46,
     "metadata": {},
     "output_type": "execute_result"
    }
   ],
   "source": [
    "#The cell below simulates a measurement on the rightmost qubit \n",
    "# (which has index 0). The other two qubits are not measured.\n",
    "result, new_sv = W.measure([0,1])  # measure qubit 0\n",
    "print(f'Measured: {result}\\nState after measurement:')\n",
    "new_sv.draw('latex')"
   ]
  },
  {
   "attachments": {},
   "cell_type": "markdown",
   "metadata": {},
   "source": [
    "## EXPLORE\n",
    "Say you applied an H-gate to the rightmost qubit of the W-state before measuring it. What would the probabilities of the two outcomes be? \n",
    "And what would the resulting state of the other qubits be for each of these outcomes?"
   ]
  },
  {
   "cell_type": "code",
   "execution_count": 27,
   "metadata": {},
   "outputs": [
    {
     "data": {
      "text/latex": [
       "$$\\frac{\\sqrt{6}}{6} |000\\rangle- \\frac{\\sqrt{6}}{6} |001\\rangle+\\frac{\\sqrt{6}}{6} |010\\rangle+\\frac{\\sqrt{6}}{6} |011\\rangle+\\frac{\\sqrt{6}}{6} |100\\rangle+\\frac{\\sqrt{6}}{6} |101\\rangle$$"
      ],
      "text/plain": [
       "<IPython.core.display.Latex object>"
      ]
     },
     "execution_count": 27,
     "metadata": {},
     "output_type": "execute_result"
    }
   ],
   "source": [
    "H = Operator([[1/sqrt(2), 1/sqrt(2)],\n",
    "             [1/sqrt(2), -1/sqrt(2)]])\n",
    "Unit = Operator.from_label('I')\n",
    "\n",
    "X = W.evolve(Unit^Unit^H)\n",
    "\n",
    "X.draw('latex')"
   ]
  },
  {
   "cell_type": "code",
   "execution_count": 28,
   "metadata": {},
   "outputs": [
    {
     "name": "stdout",
     "output_type": "stream",
     "text": [
      "Measured: 0\n",
      "State after measurement:\n"
     ]
    },
    {
     "data": {
      "text/latex": [
       "$$\\frac{\\sqrt{3}}{3} |000\\rangle+\\frac{\\sqrt{3}}{3} |010\\rangle+\\frac{\\sqrt{3}}{3} |100\\rangle$$"
      ],
      "text/plain": [
       "<IPython.core.display.Latex object>"
      ]
     },
     "execution_count": 28,
     "metadata": {},
     "output_type": "execute_result"
    }
   ],
   "source": [
    "result, new_sv = X.measure([0])  # measure qubit 0\n",
    "print(f'Measured: {result}\\nState after measurement:')\n",
    "new_sv.draw('latex')"
   ]
  },
  {
   "cell_type": "code",
   "execution_count": 29,
   "metadata": {},
   "outputs": [
    {
     "data": {
      "text/html": [
       "<h3>Version Information</h3><table><tr><th>Qiskit Software</th><th>Version</th></tr><tr><td><code>qiskit-terra</code></td><td>0.23.3</td></tr><tr><td><code>qiskit-aer</code></td><td>0.12.0</td></tr><tr><td><code>qiskit-ibmq-provider</code></td><td>0.20.2</td></tr><tr><td><code>qiskit</code></td><td>0.42.1</td></tr><tr><th>System information</th></tr><tr><td>Python version</td><td>3.9.16</td></tr><tr><td>Python compiler</td><td>MSC v.1916 64 bit (AMD64)</td></tr><tr><td>Python build</td><td>main, Mar  8 2023 10:39:24</td></tr><tr><td>OS</td><td>Windows</td></tr><tr><td>CPUs</td><td>6</td></tr><tr><td>Memory (Gb)</td><td>15.771541595458984</td></tr><tr><td colspan='2'>Tue May 30 09:29:05 2023 Romance Summer Time</td></tr></table>"
      ],
      "text/plain": [
       "<IPython.core.display.HTML object>"
      ]
     },
     "metadata": {},
     "output_type": "display_data"
    }
   ],
   "source": [
    "import qiskit.tools.jupyter\n",
    "%qiskit_version_table"
   ]
  },
  {
   "attachments": {},
   "cell_type": "markdown",
   "metadata": {},
   "source": [
    "# Quantum Circuits\n",
    "Here is how we can specify this circuit in Qiskit:"
   ]
  },
  {
   "cell_type": "code",
   "execution_count": 30,
   "metadata": {},
   "outputs": [
    {
     "data": {
      "text/html": [
       "<pre style=\"word-wrap: normal;white-space: pre;background: #fff0;line-height: 1.1;font-family: &quot;Courier New&quot;,Courier,monospace\">   ┌───┐┌───┐┌───┐┌───┐\n",
       "q: ┤ H ├┤ S ├┤ H ├┤ T ├\n",
       "   └───┘└───┘└───┘└───┘</pre>"
      ],
      "text/plain": [
       "   ┌───┐┌───┐┌───┐┌───┐\n",
       "q: ┤ H ├┤ S ├┤ H ├┤ T ├\n",
       "   └───┘└───┘└───┘└───┘"
      ]
     },
     "execution_count": 30,
     "metadata": {},
     "output_type": "execute_result"
    }
   ],
   "source": [
    "from qiskit import QuantumCircuit\n",
    "circuit = QuantumCircuit(1)\n",
    "circuit.h(0)\n",
    "circuit.s(0)\n",
    "circuit.h(0)\n",
    "circuit.t(0)\n",
    "circuit.draw()"
   ]
  },
  {
   "cell_type": "code",
   "execution_count": 31,
   "metadata": {},
   "outputs": [
    {
     "data": {
      "text/html": [
       "<pre style=\"word-wrap: normal;white-space: pre;background: #fff0;line-height: 1.1;font-family: &quot;Courier New&quot;,Courier,monospace\">   ┌───┐┌───┐┌───┐┌───┐\n",
       "x: ┤ H ├┤ S ├┤ H ├┤ T ├\n",
       "   └───┘└───┘└───┘└───┘</pre>"
      ],
      "text/plain": [
       "   ┌───┐┌───┐┌───┐┌───┐\n",
       "x: ┤ H ├┤ S ├┤ H ├┤ T ├\n",
       "   └───┘└───┘└───┘└───┘"
      ]
     },
     "execution_count": 31,
     "metadata": {},
     "output_type": "execute_result"
    }
   ],
   "source": [
    "from qiskit import QuantumCircuit, QuantumRegister\n",
    "X = QuantumRegister(1, \"x\")\n",
    "circuit = QuantumCircuit(X)\n",
    "circuit.h(X)\n",
    "circuit.s(X)\n",
    "circuit.h(X)\n",
    "circuit.t(X)\n",
    "circuit.draw()"
   ]
  },
  {
   "cell_type": "code",
   "execution_count": 32,
   "metadata": {},
   "outputs": [
    {
     "data": {
      "text/html": [
       "<pre style=\"word-wrap: normal;white-space: pre;background: #fff0;line-height: 1.1;font-family: &quot;Courier New&quot;,Courier,monospace\">     ┌───┐     ┌─┐   \n",
       "  y: ┤ H ├──■──┤M├───\n",
       "     └───┘┌─┴─┐└╥┘┌─┐\n",
       "  x: ─────┤ X ├─╫─┤M├\n",
       "          └───┘ ║ └╥┘\n",
       "b: 1/═══════════╩══╬═\n",
       "                0  ║ \n",
       "a: 1/══════════════╩═\n",
       "                   0 </pre>"
      ],
      "text/plain": [
       "     ┌───┐     ┌─┐   \n",
       "  y: ┤ H ├──■──┤M├───\n",
       "     └───┘┌─┴─┐└╥┘┌─┐\n",
       "  x: ─────┤ X ├─╫─┤M├\n",
       "          └───┘ ║ └╥┘\n",
       "b: 1/═══════════╩══╬═\n",
       "                0  ║ \n",
       "a: 1/══════════════╩═\n",
       "                   0 "
      ]
     },
     "execution_count": 32,
     "metadata": {},
     "output_type": "execute_result"
    }
   ],
   "source": [
    "from qiskit import QuantumCircuit, QuantumRegister, ClassicalRegister\n",
    "X = QuantumRegister(1, \"x\")\n",
    "Y = QuantumRegister(1, \"y\")\n",
    "A = ClassicalRegister(1, \"a\")\n",
    "B = ClassicalRegister(1, \"b\")\n",
    "circuit = QuantumCircuit(Y, X, B, A)\n",
    "circuit.h(Y)\n",
    "circuit.cx(Y, X)\n",
    "\n",
    "circuit.measure(Y, B)\n",
    "circuit.measure(X, A)\n",
    "circuit.draw()"
   ]
  },
  {
   "cell_type": "code",
   "execution_count": 33,
   "metadata": {},
   "outputs": [
    {
     "data": {
      "image/png": "[encoded data removed]",
      "text/plain": [
       "<Figure size 700x500 with 1 Axes>"
      ]
     },
     "execution_count": 33,
     "metadata": {},
     "output_type": "execute_result"
    }
   ],
   "source": [
    "from qiskit import transpile\n",
    "from qiskit.visualization import plot_histogram\n",
    "from qiskit_aer import AerSimulator\n",
    "\n",
    "simulator = AerSimulator()  \n",
    "circuit_simulator = simulator.run(transpile(circuit,simulator), shots=1000)\n",
    "statistics = circuit_simulator.result().get_counts()\n",
    "plot_histogram(statistics)"
   ]
  },
  {
   "cell_type": "code",
   "execution_count": null,
   "metadata": {},
   "outputs": [],
   "source": []
  },
  {
   "attachments": {},
   "cell_type": "markdown",
   "metadata": {},
   "source": [
    "# Quantum Entanglement\n",
    "\n",
    "## Teleportation (send quantum through quantum)"
   ]
  },
  {
   "cell_type": "code",
   "execution_count": 34,
   "metadata": {},
   "outputs": [
    {
     "data": {
      "text/html": [
       "<pre style=\"word-wrap: normal;white-space: pre;background: #fff0;line-height: 1.1;font-family: &quot;Courier New&quot;,Courier,monospace\">              ░      ┌───┐ ░    ┌─┐ ░                         \n",
       "Q: ───────────░───■──┤ H ├─░────┤M├─░─────────────────────────\n",
       "   ┌───┐      ░ ┌─┴─┐└───┘ ░ ┌─┐└╥┘ ░                         \n",
       "A: ┤ H ├──■───░─┤ X ├──────░─┤M├─╫──░─────────────────────────\n",
       "   └───┘┌─┴─┐ ░ └───┘      ░ └╥┘ ║  ░ ┌──────────┐┌──────────┐\n",
       "B: ─────┤ X ├─░────────────░──╫──╫──░─┤0         ├┤0         ├\n",
       "        └───┘ ░            ░  ║  ║  ░ │  If_else ││          │\n",
       "a: ═══════════════════════════╩══╬════╡0         ╞╡          ╞\n",
       "                                 ║    └──────────┘│          │\n",
       "b: ══════════════════════════════╩════════════════╡0         ╞\n",
       "                                                  └──────────┘</pre>"
      ],
      "text/plain": [
       "              ░      ┌───┐ ░    ┌─┐ ░                         \n",
       "Q: ───────────░───■──┤ H ├─░────┤M├─░─────────────────────────\n",
       "   ┌───┐      ░ ┌─┴─┐└───┘ ░ ┌─┐└╥┘ ░                         \n",
       "A: ┤ H ├──■───░─┤ X ├──────░─┤M├─╫──░─────────────────────────\n",
       "   └───┘┌─┴─┐ ░ └───┘      ░ └╥┘ ║  ░ ┌──────────┐┌──────────┐\n",
       "B: ─────┤ X ├─░────────────░──╫──╫──░─┤0         ├┤0         ├\n",
       "        └───┘ ░            ░  ║  ║  ░ │  If_else ││          │\n",
       "a: ═══════════════════════════╩══╬════╡0         ╞╡          ╞\n",
       "                                 ║    └──────────┘│          │\n",
       "b: ══════════════════════════════╩════════════════╡0         ╞\n",
       "                                                  └──────────┘"
      ]
     },
     "execution_count": 34,
     "metadata": {},
     "output_type": "execute_result"
    }
   ],
   "source": [
    "from qiskit import QuantumCircuit, QuantumRegister, ClassicalRegister\n",
    "qubit = QuantumRegister(1, \"Q\")\n",
    "ebit0 = QuantumRegister(1, \"A\")\n",
    "ebit1 = QuantumRegister(1, \"B\")\n",
    "a = ClassicalRegister(1, \"a\")\n",
    "b = ClassicalRegister(1, \"b\")\n",
    "\n",
    "protocol = QuantumCircuit(qubit, ebit0, ebit1, a, b)\n",
    "\n",
    "# Prepare ebit used for teleportation\n",
    "protocol.h(ebit0)\n",
    "protocol.cx(ebit0, ebit1)\n",
    "protocol.barrier()\n",
    "\n",
    "# Alice's operations\n",
    "protocol.cx(qubit, ebit0)\n",
    "protocol.h(qubit)\n",
    "protocol.barrier()\n",
    "\n",
    "# Alice measures and sends classical bits to Bob\n",
    "protocol.measure(ebit0, a)\n",
    "protocol.measure(qubit, b)\n",
    "protocol.barrier()\n",
    "\n",
    "# Bob uses the classical bits to conditionally apply gates\n",
    "with protocol.if_test((a, 1)):\n",
    "    protocol.x(ebit1)\n",
    "with protocol.if_test((b, 1)):\n",
    "    protocol.z(ebit1)\n",
    "\n",
    "protocol.draw()"
   ]
  },
  {
   "attachments": {},
   "cell_type": "markdown",
   "metadata": {},
   "source": [
    "el codigo previo muestra los principios de el metodo de comunicación cuantica del *teletransporte*.\n",
    "\n",
    "1. Alice and Bob, perform the necessary prerequisites to be at the state $|\\phi^+⟩$ at the end of the the first *barrier*.\n",
    "2. Then performs the necessary AQ operations for teleportation until the second *barrier*.\n",
    "3. The measures are taken through to both *a* and *b* as defined in the algorithm\n",
    "4. Then conditionally applied to B through the if_else gates."
   ]
  },
  {
   "cell_type": "code",
   "execution_count": 36,
   "metadata": {},
   "outputs": [
    {
     "data": {
      "text/html": [
       "<pre style=\"word-wrap: normal;white-space: pre;background: #fff0;line-height: 1.1;font-family: &quot;Courier New&quot;,Courier,monospace\">             ┌───┐      ░                                                »\n",
       "          R: ┤ H ├──■───░────────────────────────────────────────────────»\n",
       "             └───┘┌─┴─┐ ░            ░      ┌───┐ ░    ┌─┐ ░             »\n",
       "          Q: ─────┤ X ├─░────────────░───■──┤ H ├─░────┤M├─░─────────────»\n",
       "                  └───┘ ░ ┌───┐      ░ ┌─┴─┐└───┘ ░ ┌─┐└╥┘ ░             »\n",
       "          A: ───────────░─┤ H ├──■───░─┤ X ├──────░─┤M├─╫──░─────────────»\n",
       "                        ░ └───┘┌─┴─┐ ░ └───┘      ░ └╥┘ ║  ░ ┌──────────┐»\n",
       "          B: ───────────░──────┤ X ├─░────────────░──╫──╫──░─┤0         ├»\n",
       "                        ░      └───┘ ░            ░  ║  ║  ░ │  If_else │»\n",
       "          a: ════════════════════════════════════════╩══╬════╡0         ╞»\n",
       "                                                        ║    └──────────┘»\n",
       "          b: ═══════════════════════════════════════════╩════════════════»\n",
       "                                                                         »\n",
       "Test result: ════════════════════════════════════════════════════════════»\n",
       "                                                                         »\n",
       "«                          ░      ┌───┐┌─┐\n",
       "«          R: ─────────────░───■──┤ H ├┤M├\n",
       "«                          ░   │  └───┘└╥┘\n",
       "«          Q: ─────────────░───┼────────╫─\n",
       "«                          ░   │        ║ \n",
       "«          A: ─────────────░───┼────────╫─\n",
       "«             ┌──────────┐ ░ ┌─┴─┐      ║ \n",
       "«          B: ┤0         ├─░─┤ X ├──────╫─\n",
       "«             │          │ ░ └───┘      ║ \n",
       "«          a: ╡          ╞══════════════╬═\n",
       "«             │          │              ║ \n",
       "«          b: ╡0         ╞══════════════╬═\n",
       "«             └──────────┘              ║ \n",
       "«Test result: ══════════════════════════╩═\n",
       "«                                         </pre>"
      ],
      "text/plain": [
       "             ┌───┐      ░                                                »\n",
       "          R: ┤ H ├──■───░────────────────────────────────────────────────»\n",
       "             └───┘┌─┴─┐ ░            ░      ┌───┐ ░    ┌─┐ ░             »\n",
       "          Q: ─────┤ X ├─░────────────░───■──┤ H ├─░────┤M├─░─────────────»\n",
       "                  └───┘ ░ ┌───┐      ░ ┌─┴─┐└───┘ ░ ┌─┐└╥┘ ░             »\n",
       "          A: ───────────░─┤ H ├──■───░─┤ X ├──────░─┤M├─╫──░─────────────»\n",
       "                        ░ └───┘┌─┴─┐ ░ └───┘      ░ └╥┘ ║  ░ ┌──────────┐»\n",
       "          B: ───────────░──────┤ X ├─░────────────░──╫──╫──░─┤0         ├»\n",
       "                        ░      └───┘ ░            ░  ║  ║  ░ │  If_else │»\n",
       "          a: ════════════════════════════════════════╩══╬════╡0         ╞»\n",
       "                                                        ║    └──────────┘»\n",
       "          b: ═══════════════════════════════════════════╩════════════════»\n",
       "                                                                         »\n",
       "Test result: ════════════════════════════════════════════════════════════»\n",
       "                                                                         »\n",
       "«                          ░      ┌───┐┌─┐\n",
       "«          R: ─────────────░───■──┤ H ├┤M├\n",
       "«                          ░   │  └───┘└╥┘\n",
       "«          Q: ─────────────░───┼────────╫─\n",
       "«                          ░   │        ║ \n",
       "«          A: ─────────────░───┼────────╫─\n",
       "«             ┌──────────┐ ░ ┌─┴─┐      ║ \n",
       "«          B: ┤0         ├─░─┤ X ├──────╫─\n",
       "«             │          │ ░ └───┘      ║ \n",
       "«          a: ╡          ╞══════════════╬═\n",
       "«             │          │              ║ \n",
       "«          b: ╡0         ╞══════════════╬═\n",
       "«             └──────────┘              ║ \n",
       "«Test result: ══════════════════════════╩═\n",
       "«                                         "
      ]
     },
     "execution_count": 36,
     "metadata": {},
     "output_type": "execute_result"
    }
   ],
   "source": [
    "# Create a new circuit including the same bits and qubits used in the\n",
    "# teleportation protocol, along with a new \"auxiliary\" qubit R.\n",
    "aux = QuantumRegister(1, \"R\")\n",
    "test = QuantumCircuit(aux, qubit, ebit0, ebit1, a, b)\n",
    "\n",
    "# Entangle Q with R\n",
    "test.h(aux)\n",
    "test.cx(aux, qubit)\n",
    "test.barrier()\n",
    "\n",
    "# Append the protocol the circuit. The 'qubits' argument tells Qiskit that\n",
    "# the protocol should operate on the qubits numbered 1, 2, and 3 (skipping\n",
    "# qubit 0, which is R).\n",
    "test = test.compose(protocol, qubits=[1, 2, 3])\n",
    "test.barrier()\n",
    "\n",
    "# After the protocol runs, check that (B,R) is in a phi+ state. We can add\n",
    "# a new classical bit to the circuit to do this.\n",
    "test.cx(aux, ebit1)\n",
    "test.h(aux)\n",
    "result = ClassicalRegister(1, \"Test result\")\n",
    "test.add_register(result)\n",
    "test.measure(aux, result)\n",
    "\n",
    "test.draw()"
   ]
  },
  {
   "attachments": {},
   "cell_type": "markdown",
   "metadata": {},
   "source": [
    "Finally let's run the Aer simulator on this circuit and plot a histogram of the outputs. We'll see the statistics for all three classical bits: the bottom/leftmost bit should always be 0 , indicating that the qubit Q was successfully teleported into B, while the other two bits should be roughly uniform."
   ]
  },
  {
   "cell_type": "code",
   "execution_count": 37,
   "metadata": {},
   "outputs": [
    {
     "data": {
      "image/png": "[encoded data removed]",
      "text/plain": [
       "<Figure size 700x500 with 1 Axes>"
      ]
     },
     "execution_count": 37,
     "metadata": {},
     "output_type": "execute_result"
    }
   ],
   "source": [
    "from qiskit_aer import AerSimulator\n",
    "from qiskit.visualization import plot_histogram\n",
    "\n",
    "counts = AerSimulator().run(test).result().get_counts()\n",
    "plot_histogram(counts)"
   ]
  },
  {
   "attachments": {},
   "cell_type": "markdown",
   "metadata": {},
   "source": [
    "in this order:\n",
    "testresult - b - a"
   ]
  },
  {
   "cell_type": "code",
   "execution_count": 38,
   "metadata": {},
   "outputs": [
    {
     "data": {
      "image/png": "[encoded data removed]",
      "text/plain": [
       "<Figure size 700x500 with 1 Axes>"
      ]
     },
     "execution_count": 38,
     "metadata": {},
     "output_type": "execute_result"
    }
   ],
   "source": [
    "filtered_counts = {\"0\": 0, \"1\": 0}\n",
    "\n",
    "for result, frequency in counts.items():\n",
    "    filtered_counts[result[0] ] += frequency\n",
    "\n",
    "plot_histogram(filtered_counts)"
   ]
  },
  {
   "attachments": {},
   "cell_type": "markdown",
   "metadata": {},
   "source": [
    "## Superdense Coding (send binary thorugh quantum)"
   ]
  },
  {
   "cell_type": "code",
   "execution_count": 43,
   "metadata": {},
   "outputs": [
    {
     "data": {
      "text/html": [
       "<pre style=\"word-wrap: normal;white-space: pre;background: #fff0;line-height: 1.1;font-family: &quot;Courier New&quot;,Courier,monospace\">        ┌───┐      ░ ┌───┐ ░      ┌───┐ ░ ┌─┐   \n",
       "   q_0: ┤ H ├──■───░─┤ Z ├─░───■──┤ H ├─░─┤M├───\n",
       "        └───┘┌─┴─┐ ░ └───┘ ░ ┌─┴─┐└───┘ ░ └╥┘┌─┐\n",
       "   q_1: ─────┤ X ├─░───────░─┤ X ├──────░──╫─┤M├\n",
       "             └───┘ ░       ░ └───┘      ░  ║ └╥┘\n",
       "meas: 2/═══════════════════════════════════╩══╩═\n",
       "                                           0  1 </pre>"
      ],
      "text/plain": [
       "        ┌───┐      ░ ┌───┐ ░      ┌───┐ ░ ┌─┐   \n",
       "   q_0: ┤ H ├──■───░─┤ Z ├─░───■──┤ H ├─░─┤M├───\n",
       "        └───┘┌─┴─┐ ░ └───┘ ░ ┌─┴─┐└───┘ ░ └╥┘┌─┐\n",
       "   q_1: ─────┤ X ├─░───────░─┤ X ├──────░──╫─┤M├\n",
       "             └───┘ ░       ░ └───┘      ░  ║ └╥┘\n",
       "meas: 2/═══════════════════════════════════╩══╩═\n",
       "                                           0  1 "
      ]
     },
     "execution_count": 43,
     "metadata": {},
     "output_type": "execute_result"
    }
   ],
   "source": [
    "a = \"0\"\n",
    "b = \"1\"\n",
    "\n",
    "from qiskit import QuantumCircuit\n",
    "\n",
    "protocol = QuantumCircuit(2)\n",
    "\n",
    "# Prepare ebit used for superdense coding\n",
    "protocol.h(0)\n",
    "protocol.cx(0, 1)\n",
    "protocol.barrier()\n",
    "\n",
    "# Alice's operations\n",
    "\n",
    "if b == \"1\":\n",
    "    protocol.z(0)\n",
    "if a == \"1\":\n",
    "    protocol.x(0)\n",
    "protocol.barrier()\n",
    "\n",
    "# Bob's actions\n",
    "protocol.cx(0, 1)\n",
    "protocol.h(0)\n",
    "protocol.measure_all()\n",
    "\n",
    "protocol.draw()"
   ]
  },
  {
   "cell_type": "code",
   "execution_count": 42,
   "metadata": {},
   "outputs": [
    {
     "name": "stdout",
     "output_type": "stream",
     "text": [
      "Measured 00 with frequency 1024\n"
     ]
    },
    {
     "data": {
      "image/png": "[encoded data removed]",
      "text/plain": [
       "<Figure size 700x500 with 1 Axes>"
      ]
     },
     "execution_count": 42,
     "metadata": {},
     "output_type": "execute_result"
    }
   ],
   "source": [
    "from qiskit_aer import AerSimulator\n",
    "from qiskit.visualization import plot_histogram\n",
    "\n",
    "counts = AerSimulator().run(protocol).result().get_counts()\n",
    "for outcome, frequency in counts.items():\n",
    "    print(f\"Measured {outcome} with frequency {frequency}\")\n",
    "plot_histogram(counts)"
   ]
  },
  {
   "attachments": {},
   "cell_type": "markdown",
   "metadata": {},
   "source": [
    "Just for fun, we can use an additional qubit as a random bit generator to randomly choose and , then run the superdense coding protocol to see that these bits are transmitted correctly."
   ]
  },
  {
   "cell_type": "code",
   "execution_count": 44,
   "metadata": {},
   "outputs": [
    {
     "data": {
      "text/html": [
       "<pre style=\"word-wrap: normal;white-space: pre;background: #fff0;line-height: 1.1;font-family: &quot;Courier New&quot;,Courier,monospace\">                       ░ ┌───┐┌─┐┌───┐┌─┐ ░              ░            ░       \n",
       "randomizer: ───────────░─┤ H ├┤M├┤ H ├┤M├─░──────────────░────────────░───────\n",
       "            ┌───┐      ░ └───┘└╥┘└───┘└╥┘ ░ ┌────┐┌────┐ ░      ┌───┐ ░    ┌─┐\n",
       "         A: ┤ H ├──■───░───────╫───────╫──░─┤0   ├┤0   ├─░───■──┤ H ├─░────┤M├\n",
       "            └───┘┌─┴─┐ ░       ║       ║  ░ │    ││    │ ░ ┌─┴─┐└───┘ ░ ┌─┐└╥┘\n",
       "         B: ─────┤ X ├─░───────╫───────╫──░─┤  Z ├┤    ├─░─┤ X ├──────░─┤M├─╫─\n",
       "                 └───┘ ░       ║       ║  ░ │    ││  X │ ░ └───┘      ░ └╥┘ ║ \n",
       "   Alice b: ═══════════════════╬═══════╩════╡0   ╞╡    ╞═════════════════╬══╬═\n",
       "                               ║            └────┘│    │                 ║  ║ \n",
       "   Alice a: ═══════════════════╩══════════════════╡0   ╞═════════════════╬══╬═\n",
       "                                                  └────┘                 ║  ║ \n",
       "     Bob b: ═════════════════════════════════════════════════════════════╬══╩═\n",
       "                                                                         ║    \n",
       "     Bob a: ═════════════════════════════════════════════════════════════╩════\n",
       "                                                                              </pre>"
      ],
      "text/plain": [
       "                       ░ ┌───┐┌─┐┌───┐┌─┐ ░              ░            ░       \n",
       "randomizer: ───────────░─┤ H ├┤M├┤ H ├┤M├─░──────────────░────────────░───────\n",
       "            ┌───┐      ░ └───┘└╥┘└───┘└╥┘ ░ ┌────┐┌────┐ ░      ┌───┐ ░    ┌─┐\n",
       "         A: ┤ H ├──■───░───────╫───────╫──░─┤0   ├┤0   ├─░───■──┤ H ├─░────┤M├\n",
       "            └───┘┌─┴─┐ ░       ║       ║  ░ │    ││    │ ░ ┌─┴─┐└───┘ ░ ┌─┐└╥┘\n",
       "         B: ─────┤ X ├─░───────╫───────╫──░─┤  Z ├┤    ├─░─┤ X ├──────░─┤M├─╫─\n",
       "                 └───┘ ░       ║       ║  ░ │    ││  X │ ░ └───┘      ░ └╥┘ ║ \n",
       "   Alice b: ═══════════════════╬═══════╩════╡0   ╞╡    ╞═════════════════╬══╬═\n",
       "                               ║            └────┘│    │                 ║  ║ \n",
       "   Alice a: ═══════════════════╩══════════════════╡0   ╞═════════════════╬══╬═\n",
       "                                                  └────┘                 ║  ║ \n",
       "     Bob b: ═════════════════════════════════════════════════════════════╬══╩═\n",
       "                                                                         ║    \n",
       "     Bob a: ═════════════════════════════════════════════════════════════╩════\n",
       "                                                                              "
      ]
     },
     "execution_count": 44,
     "metadata": {},
     "output_type": "execute_result"
    }
   ],
   "source": [
    "from qiskit import QuantumCircuit\n",
    "\n",
    "rbg = QuantumRegister(1, \"randomizer\")\n",
    "ebit0 = QuantumRegister(1, \"A\")\n",
    "ebit1 = QuantumRegister(1, \"B\")\n",
    "\n",
    "Alice_a = ClassicalRegister(1, \"Alice a\")\n",
    "Alice_b = ClassicalRegister(1, \"Alice b\")\n",
    "\n",
    "test = QuantumCircuit(rbg, ebit0, ebit1, Alice_b, Alice_a)\n",
    "\n",
    "# Initialize the ebit\n",
    "test.h(ebit0)\n",
    "test.cx(ebit0, ebit1)\n",
    "test.barrier()\n",
    "\n",
    "# Use the 'randomizer' qubit twice to generate Alice's bits a and b.\n",
    "test.h(rbg)\n",
    "test.measure(rbg, Alice_a)\n",
    "test.h(rbg)\n",
    "test.measure(rbg, Alice_b)\n",
    "test.barrier()\n",
    "\n",
    "# Now the protocol runs, starting with Alice's actions, which depend\n",
    "# on her bits.\n",
    "with test.if_test((Alice_b, 1), label=\"Z\"):\n",
    "    test.z(ebit0)\n",
    "with test.if_test((Alice_a, 1), label=\"X\"):\n",
    "    test.x(ebit0)\n",
    "test.barrier()\n",
    "\n",
    "# Bob's actions\n",
    "test.cx(ebit0, ebit1)\n",
    "test.h(ebit0)\n",
    "test.barrier()\n",
    "\n",
    "Bob_a = ClassicalRegister(1, \"Bob a\")\n",
    "Bob_b = ClassicalRegister(1, \"Bob b\")\n",
    "test.add_register(Bob_b)\n",
    "test.add_register(Bob_a)\n",
    "test.measure(ebit1, Bob_a)\n",
    "test.measure(ebit0, Bob_b)\n",
    "\n",
    "test.draw()"
   ]
  },
  {
   "cell_type": "code",
   "execution_count": 45,
   "metadata": {},
   "outputs": [
    {
     "data": {
      "image/png": "[encoded data removed]",
      "text/plain": [
       "<Figure size 700x500 with 1 Axes>"
      ]
     },
     "execution_count": 45,
     "metadata": {},
     "output_type": "execute_result"
    }
   ],
   "source": [
    "from qiskit_aer import AerSimulator\n",
    "from qiskit.visualization import plot_histogram\n",
    "\n",
    "counts = AerSimulator().run(test).result().get_counts()\n",
    "plot_histogram(counts)"
   ]
  },
  {
   "attachments": {},
   "cell_type": "markdown",
   "metadata": {},
   "source": [
    "## CHSH GAME"
   ]
  },
  {
   "cell_type": "code",
   "execution_count": 1,
   "metadata": {},
   "outputs": [],
   "source": [
    "from numpy.random import randint\n",
    "\n",
    "def chsh_game(strategy):\n",
    "    \"\"\"Plays the CHSH game\n",
    "    Args:\n",
    "        strategy (callable): A function that takes two bits (as `int`s) and\n",
    "            returns two bits (also as `int`s). The strategy must follow the\n",
    "            rules of the CHSH game.\n",
    "    Returns:\n",
    "        int: 1 for a win, 0 for a loss.\n",
    "    \"\"\"\n",
    "    # Referee chooses x and y randomly\n",
    "    x, y = randint(0, 2), randint(0, 2)\n",
    "\n",
    "    # Use strategy to choose a and b\n",
    "    a, b = strategy(x, y)\n",
    "\n",
    "    # Referee decides if Alice and Bob win or lose\n",
    "    if (a != b) == (x & y):\n",
    "        return 1  # Win\n",
    "    return 0  # Lose"
   ]
  },
  {
   "cell_type": "code",
   "execution_count": 2,
   "metadata": {},
   "outputs": [],
   "source": [
    "from qiskit import QuantumCircuit\n",
    "from numpy import pi\n",
    "\n",
    "def chsh_circuit(x, y):\n",
    "    \"\"\"Creates a `QuantumCircuit` that implements the best CHSH strategy.\n",
    "    Args:\n",
    "        x (int): Alice's bit (must be 0 or 1)\n",
    "        y (int): Bob's bit (must be 0 or 1)\n",
    "    Returns:\n",
    "        QuantumCircuit: Circuit that, when run, returns Alice and Bob's\n",
    "            answer bits.\n",
    "    \"\"\"\n",
    "    qc = QuantumCircuit(2, 2)\n",
    "    qc.h(0)\n",
    "    qc.cx(0, 1)\n",
    "    qc.barrier()\n",
    "\n",
    "    # Alice\n",
    "    if x == 0:\n",
    "        qc.ry(0, 0)\n",
    "    else:\n",
    "        qc.ry(-pi / 2, 0)\n",
    "    qc.measure(0, 0)\n",
    "\n",
    "    # Bob\n",
    "    if y == 0:\n",
    "        qc.ry(-pi / 4, 1)\n",
    "    else:\n",
    "        qc.ry(pi / 4, 1)\n",
    "    qc.measure(1, 1)\n",
    "\n",
    "    return qc"
   ]
  },
  {
   "cell_type": "code",
   "execution_count": 3,
   "metadata": {},
   "outputs": [
    {
     "name": "stdout",
     "output_type": "stream",
     "text": [
      "(x,y) = (0,0)\n"
     ]
    },
    {
     "data": {
      "text/html": [
       "<pre style=\"word-wrap: normal;white-space: pre;background: #fff0;line-height: 1.1;font-family: &quot;Courier New&quot;,Courier,monospace\">     ┌───┐      ░  ┌───────┐  ┌─┐   \n",
       "q_0: ┤ H ├──■───░──┤ Ry(0) ├──┤M├───\n",
       "     └───┘┌─┴─┐ ░ ┌┴───────┴─┐└╥┘┌─┐\n",
       "q_1: ─────┤ X ├─░─┤ Ry(-π/4) ├─╫─┤M├\n",
       "          └───┘ ░ └──────────┘ ║ └╥┘\n",
       "c: 2/══════════════════════════╩══╩═\n",
       "                               0  1 </pre>"
      ],
      "text/plain": [
       "     ┌───┐      ░  ┌───────┐  ┌─┐   \n",
       "q_0: ┤ H ├──■───░──┤ Ry(0) ├──┤M├───\n",
       "     └───┘┌─┴─┐ ░ ┌┴───────┴─┐└╥┘┌─┐\n",
       "q_1: ─────┤ X ├─░─┤ Ry(-π/4) ├─╫─┤M├\n",
       "          └───┘ ░ └──────────┘ ║ └╥┘\n",
       "c: 2/══════════════════════════╩══╩═\n",
       "                               0  1 "
      ]
     },
     "metadata": {},
     "output_type": "display_data"
    },
    {
     "name": "stdout",
     "output_type": "stream",
     "text": [
      "(x,y) = (0,1)\n"
     ]
    },
    {
     "data": {
      "text/html": [
       "<pre style=\"word-wrap: normal;white-space: pre;background: #fff0;line-height: 1.1;font-family: &quot;Courier New&quot;,Courier,monospace\">     ┌───┐      ░  ┌───────┐ ┌─┐   \n",
       "q_0: ┤ H ├──■───░──┤ Ry(0) ├─┤M├───\n",
       "     └───┘┌─┴─┐ ░ ┌┴───────┴┐└╥┘┌─┐\n",
       "q_1: ─────┤ X ├─░─┤ Ry(π/4) ├─╫─┤M├\n",
       "          └───┘ ░ └─────────┘ ║ └╥┘\n",
       "c: 2/═════════════════════════╩══╩═\n",
       "                              0  1 </pre>"
      ],
      "text/plain": [
       "     ┌───┐      ░  ┌───────┐ ┌─┐   \n",
       "q_0: ┤ H ├──■───░──┤ Ry(0) ├─┤M├───\n",
       "     └───┘┌─┴─┐ ░ ┌┴───────┴┐└╥┘┌─┐\n",
       "q_1: ─────┤ X ├─░─┤ Ry(π/4) ├─╫─┤M├\n",
       "          └───┘ ░ └─────────┘ ║ └╥┘\n",
       "c: 2/═════════════════════════╩══╩═\n",
       "                              0  1 "
      ]
     },
     "metadata": {},
     "output_type": "display_data"
    },
    {
     "name": "stdout",
     "output_type": "stream",
     "text": [
      "(x,y) = (1,0)\n"
     ]
    },
    {
     "data": {
      "text/html": [
       "<pre style=\"word-wrap: normal;white-space: pre;background: #fff0;line-height: 1.1;font-family: &quot;Courier New&quot;,Courier,monospace\">     ┌───┐      ░ ┌──────────┐┌─┐   \n",
       "q_0: ┤ H ├──■───░─┤ Ry(-π/2) ├┤M├───\n",
       "     └───┘┌─┴─┐ ░ ├──────────┤└╥┘┌─┐\n",
       "q_1: ─────┤ X ├─░─┤ Ry(-π/4) ├─╫─┤M├\n",
       "          └───┘ ░ └──────────┘ ║ └╥┘\n",
       "c: 2/══════════════════════════╩══╩═\n",
       "                               0  1 </pre>"
      ],
      "text/plain": [
       "     ┌───┐      ░ ┌──────────┐┌─┐   \n",
       "q_0: ┤ H ├──■───░─┤ Ry(-π/2) ├┤M├───\n",
       "     └───┘┌─┴─┐ ░ ├──────────┤└╥┘┌─┐\n",
       "q_1: ─────┤ X ├─░─┤ Ry(-π/4) ├─╫─┤M├\n",
       "          └───┘ ░ └──────────┘ ║ └╥┘\n",
       "c: 2/══════════════════════════╩══╩═\n",
       "                               0  1 "
      ]
     },
     "metadata": {},
     "output_type": "display_data"
    },
    {
     "name": "stdout",
     "output_type": "stream",
     "text": [
      "(x,y) = (1,1)\n"
     ]
    },
    {
     "data": {
      "text/html": [
       "<pre style=\"word-wrap: normal;white-space: pre;background: #fff0;line-height: 1.1;font-family: &quot;Courier New&quot;,Courier,monospace\">     ┌───┐      ░ ┌──────────┐┌─┐   \n",
       "q_0: ┤ H ├──■───░─┤ Ry(-π/2) ├┤M├───\n",
       "     └───┘┌─┴─┐ ░ ├─────────┬┘└╥┘┌─┐\n",
       "q_1: ─────┤ X ├─░─┤ Ry(π/4) ├──╫─┤M├\n",
       "          └───┘ ░ └─────────┘  ║ └╥┘\n",
       "c: 2/══════════════════════════╩══╩═\n",
       "                               0  1 </pre>"
      ],
      "text/plain": [
       "     ┌───┐      ░ ┌──────────┐┌─┐   \n",
       "q_0: ┤ H ├──■───░─┤ Ry(-π/2) ├┤M├───\n",
       "     └───┘┌─┴─┐ ░ ├─────────┬┘└╥┘┌─┐\n",
       "q_1: ─────┤ X ├─░─┤ Ry(π/4) ├──╫─┤M├\n",
       "          └───┘ ░ └─────────┘  ║ └╥┘\n",
       "c: 2/══════════════════════════╩══╩═\n",
       "                               0  1 "
      ]
     },
     "metadata": {},
     "output_type": "display_data"
    }
   ],
   "source": [
    "\n",
    "# Draw the four possible circuits\n",
    "\n",
    "print(\"(x,y) = (0,0)\")\n",
    "display(chsh_circuit(0, 0).draw())\n",
    "\n",
    "print(\"(x,y) = (0,1)\")\n",
    "display(chsh_circuit(0, 1).draw())\n",
    "\n",
    "print(\"(x,y) = (1,0)\")\n",
    "display(chsh_circuit(1, 0).draw())\n",
    "\n",
    "print(\"(x,y) = (1,1)\")\n",
    "display(chsh_circuit(1, 1).draw())"
   ]
  },
  {
   "cell_type": "code",
   "execution_count": 4,
   "metadata": {},
   "outputs": [],
   "source": [
    "from qiskit_aer import AerSimulator\n",
    "\n",
    "simulator = AerSimulator()\n",
    "\n",
    "\n",
    "def quantum_strategy(x, y):\n",
    "    \"\"\"Carry out the best strategy for the CHSH game.\n",
    "    Args:\n",
    "        x (int): Alice's bit (must be 0 or 1)\n",
    "        y (int): Bob's bit (must be 0 or 1)\n",
    "    Returns:\n",
    "        (int, int): Alice and Bob's answer bits (respectively)\n",
    "    \"\"\"\n",
    "    # `shots=1` runs the circuit once\n",
    "    # `memory=True` enables the `.get_memory()` method\n",
    "    job = simulator.run(chsh_circuit(x, y), shots=1, memory=True)\n",
    "    result = job.result().get_memory()[0]\n",
    "    a, b = result[0], result[1]\n",
    "    return a, b"
   ]
  },
  {
   "cell_type": "code",
   "execution_count": 7,
   "metadata": {},
   "outputs": [
    {
     "name": "stdout",
     "output_type": "stream",
     "text": [
      "Fraction of games won: 0.866\n"
     ]
    }
   ],
   "source": [
    "NUM_GAMES = 1000\n",
    "TOTAL_SCORE = 0\n",
    "\n",
    "for _ in range(NUM_GAMES):\n",
    "    TOTAL_SCORE += chsh_game(quantum_strategy)\n",
    "\n",
    "print(\"Fraction of games won:\", TOTAL_SCORE / NUM_GAMES)"
   ]
  },
  {
   "attachments": {},
   "cell_type": "markdown",
   "metadata": {},
   "source": [
    "Classical startegy definition..."
   ]
  },
  {
   "cell_type": "code",
   "execution_count": 8,
   "metadata": {},
   "outputs": [],
   "source": [
    "def classical_strategy(x, y):\n",
    "    \"\"\"The best classical strategy for the CHSH game\n",
    "    Args:\n",
    "        x (int): Alice's bit (must be 0 or 1)\n",
    "        y (int): Bob's bit (must be 0 or 1)\n",
    "    Returns:\n",
    "        (int, int): Alice and Bob's answer bits (respectively)\n",
    "    \"\"\"\n",
    "    # Alice's answer\n",
    "    if x == 0:\n",
    "        a = 0\n",
    "    elif x == 1:\n",
    "        a = 1\n",
    "\n",
    "    # Bob's answer\n",
    "    if y == 0:\n",
    "        b = 1\n",
    "    elif y == 1:\n",
    "        b = 0\n",
    "\n",
    "    return a, b"
   ]
  },
  {
   "cell_type": "code",
   "execution_count": 15,
   "metadata": {},
   "outputs": [
    {
     "name": "stdout",
     "output_type": "stream",
     "text": [
      "Fraction of games won: 0.762\n"
     ]
    }
   ],
   "source": [
    "NUM_GAMES = 1000\n",
    "TOTAL_SCORE = 0\n",
    "\n",
    "for _ in range(NUM_GAMES):\n",
    "    TOTAL_SCORE += chsh_game(classical_strategy)\n",
    "\n",
    "print(\"Fraction of games won:\", TOTAL_SCORE / NUM_GAMES)"
   ]
  }
 ],
 "metadata": {
  "kernelspec": {
   "display_name": "quantum",
   "language": "python",
   "name": "python3"
  },
  "language_info": {
   "codemirror_mode": {
    "name": "ipython",
    "version": 3
   },
   "file_extension": ".py",
   "mimetype": "text/x-python",
   "name": "python",
   "nbconvert_exporter": "python",
   "pygments_lexer": "ipython3",
   "version": "3.9.16"
  },
  "orig_nbformat": 4
 },
 "nbformat": 4,
 "nbformat_minor": 2
}
